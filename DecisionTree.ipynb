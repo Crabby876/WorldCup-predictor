{
 "cells": [
  {
   "cell_type": "markdown",
   "id": "7ae004e4-5b6b-420a-a449-c7b0d8ddeb09",
   "metadata": {},
   "source": [
    "Für den WorldCup-Predictor habe ich mich für das Decision-Tree-Modell entschieden, da es mit einem grossen Datensatz sehr gute Vorhersagen treffen kann. Ausserdem habe ich dieses Modell am besten verstanden beim Üben, was für mich die Anwendung erleichtert. Beim Testen hat der DecisioTree gute Resultate erzielt. Da Entscheidungsbäume keine Normalisierung der Daten benötigen und klare Regeln aufstellen, eignen sie sich gut für meinen Datensatz"
   ]
  },
  {
   "cell_type": "code",
   "execution_count": 1,
   "id": "50eb57fe",
   "metadata": {
    "vscode": {
     "languageId": "plaintext"
    }
   },
   "outputs": [
    {
     "name": "stdout",
     "output_type": "stream",
     "text": [
      "         date            home_team away_team  home_score  away_score  \\\n",
      "0  04/01/2000                Egypt      Togo           2           1   \n",
      "1  07/01/2000              Tunisia      Togo           7           0   \n",
      "2  08/01/2000  Trinidad and Tobago    Canada           0           0   \n",
      "3  09/01/2000         Burkina Faso     Gabon           1           1   \n",
      "4  09/01/2000            Guatemala   Armenia           1           1   \n",
      "5  09/01/2000          Ivory Coast     Egypt           2           0   \n",
      "6  09/01/2000               Mexico      Iran           2           1   \n",
      "7  11/01/2000              Bermuda    Canada           0           2   \n",
      "8  11/01/2000         Burkina Faso  Cameroon           2           2   \n",
      "9  13/01/2000              Senegal  Cameroon           0           0   \n",
      "\n",
      "  tournament           city              country  neutral  Result(home_team)  \\\n",
      "0   Friendly          Aswan                Egypt    False                  1   \n",
      "1   Friendly          Tunis              Tunisia    False                  1   \n",
      "2   Friendly  Port of Spain  Trinidad and Tobago    False                  0   \n",
      "3   Friendly    Ouagadougou         Burkina Faso    False                  0   \n",
      "4   Friendly    Los Angeles        United States     True                  0   \n",
      "5   Friendly        Abidjan          Ivory Coast    False                  1   \n",
      "6   Friendly        Oakland        United States     True                  1   \n",
      "7   Friendly       Hamilton              Bermuda    False                 -1   \n",
      "8   Friendly    Ouagadougou         Burkina Faso    False                  0   \n",
      "9   Friendly          Dakar              Senegal    False                  0   \n",
      "\n",
      "   home advantage  \n",
      "0               1  \n",
      "1               1  \n",
      "2               1  \n",
      "3               1  \n",
      "4               0  \n",
      "5               1  \n",
      "6               0  \n",
      "7               1  \n",
      "8               1  \n",
      "9               1  \n"
     ]
    }
   ],
   "source": [
    "##Importierung des Datensatzes\n",
    "\n",
    "import pandas as pd\n",
    "from sklearn.model_selection import train_test_split\n",
    "from sklearn import tree\n",
    "\n",
    "DT = tree.DecisionTreeClassifier()\n",
    "results = pd.read_csv(\"results.csv\")\n",
    "\n",
    "print(results.head(10))"
   ]
  },
  {
   "cell_type": "code",
   "execution_count": 14,
   "id": "4671eb3b-250a-41bf-b542-a3db9f46c54d",
   "metadata": {},
   "outputs": [],
   "source": [
    "##Datensatz splitten\n",
    "\n",
    "X = results[['home advantage', 'home_team', 'away_team']]\n",
    "y = results['Result(home_team)']\n",
    "\n",
    "X = pd.get_dummies(X)\n",
    "\n",
    "X_train, X_test, y_train, y_test = train_test_split(X, y, test_size=0.1, random_state=42)"
   ]
  },
  {
   "cell_type": "markdown",
   "id": "c5e46634-2181-4bc5-894e-ea7912b95e0a",
   "metadata": {},
   "source": [
    "Ich habe die Genauigkeit meines ML Projektes manuell mit einer for-Schleife geprüft und habe festgestellt, dass der DecisionTree Modell die meisten den richtigen Vorhersagen gemacht hat. Diese Resultate bestätigten wiederum, dass das gewählte DecisionTree-Model sehr gut geeignet ist für mein Worldcup-predictor Datensatz und dass ich es weiterhin nutzen kann."
   ]
  },
  {
   "cell_type": "code",
   "execution_count": 15,
   "id": "bcb8c7a3-cf75-4641-a46c-28d736f7db93",
   "metadata": {},
   "outputs": [
    {
     "name": "stdout",
     "output_type": "stream",
     "text": [
      "1199\n",
      "1194\n"
     ]
    }
   ],
   "source": [
    "##Testen und Genauigkeit überprüfen\n",
    "\n",
    "DT.fit(X_train, y_train)\n",
    "y_pred = DT.predict(X_test)\n",
    "\n",
    "y_test_reset = y_test.reset_index(drop=True)\n",
    "\n",
    "correct = 0\n",
    "false = 0\n",
    "\n",
    "for i in range(len(y_test_reset)):\n",
    "    if y_test_reset[i] == y_pred[i]:\n",
    "        correct += 1\n",
    "    else:\n",
    "        false += 1\n",
    "print(correct)\n",
    "print (false)"
   ]
  },
  {
   "cell_type": "code",
   "execution_count": null,
   "id": "8b8600a1-dd0d-4735-ba9a-2cd7a6d2a27b",
   "metadata": {},
   "outputs": [],
   "source": []
  }
 ],
 "metadata": {
  "kernelspec": {
   "display_name": "Python 3 (ipykernel)",
   "language": "python",
   "name": "python3"
  },
  "language_info": {
   "codemirror_mode": {
    "name": "ipython",
    "version": 3
   },
   "file_extension": ".py",
   "mimetype": "text/x-python",
   "name": "python",
   "nbconvert_exporter": "python",
   "pygments_lexer": "ipython3",
   "version": "3.12.6"
  }
 },
 "nbformat": 4,
 "nbformat_minor": 5
}
